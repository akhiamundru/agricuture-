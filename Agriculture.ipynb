{
  "nbformat": 4,
  "nbformat_minor": 0,
  "metadata": {
    "colab": {
      "provenance": []
    },
    "kernelspec": {
      "name": "python3",
      "display_name": "Python 3"
    },
    "language_info": {
      "name": "python"
    }
  },
  "cells": [
    {
      "cell_type": "code",
      "execution_count": 1,
      "metadata": {
        "colab": {
          "base_uri": "https://localhost:8080/"
        },
        "id": "HF_L8xVPpR6v",
        "outputId": "2830b631-9e97-43f8-bb56-b093bbe09ddf"
      },
      "outputs": [
        {
          "output_type": "stream",
          "name": "stdout",
          "text": [
            "Enter your soil type (loamy, clayey, sandy): sandy\n",
            "Recommended crops for sandy soil: Carrots, Peanuts, Potatoes\n"
          ]
        }
      ],
      "source": [
        "def recommend_crop(soil_type):\n",
        "    crop_recommendations = {\n",
        "        'loamy': ['Wheat', 'Sugarcane', 'Cotton'],\n",
        "        'clayey': ['Rice', 'Beans', 'Peas'],\n",
        "        'sandy': ['Carrots', 'Peanuts', 'Potatoes'],\n",
        "    }\n",
        "    return crop_recommendations.get(soil_type.lower(), \"No recommendation available\")\n",
        "\n",
        "soil_type = input(\"Enter your soil type (loamy, clayey, sandy): \")\n",
        "recommended_crops = recommend_crop(soil_type)\n",
        "print(f\"Recommended crops for {soil_type} soil: {', '.join(recommended_crops)}\")\n"
      ]
    },
    {
      "cell_type": "code",
      "source": [
        "def recommend_irrigation(moisture_level):\n",
        "    if moisture_level < 30:\n",
        "        return \"Irrigation needed\"\n",
        "    elif 30 <= moisture_level <= 60:\n",
        "        return \"Optimal moisture level\"\n",
        "    else:\n",
        "        return \"No irrigation needed\"\n",
        "\n",
        "moisture_level = int(input(\"Enter the current soil moisture level (%): \"))\n",
        "irrigation_advice = recommend_irrigation(moisture_level)\n",
        "print(f\"Irrigation advice: {irrigation_advice}\")\n"
      ],
      "metadata": {
        "colab": {
          "base_uri": "https://localhost:8080/"
        },
        "id": "0ztydIrtphWT",
        "outputId": "758d7513-426d-41f0-e601-fda37f48a27f"
      },
      "execution_count": 2,
      "outputs": [
        {
          "output_type": "stream",
          "name": "stdout",
          "text": [
            "Enter the current soil moisture level (%): 7\n",
            "Irrigation advice: Irrigation needed\n"
          ]
        }
      ]
    },
    {
      "cell_type": "code",
      "source": [
        "def identify_disease():\n",
        "    # Placeholder logic for disease identification\n",
        "    diseases = ['Powdery Mildew', 'Blight', 'Rust']\n",
        "    return diseases[0]  # Mocked as always returning 'Powdery Mildew'\n",
        "\n",
        "print(\"Identify plant disease:\")\n",
        "disease = identify_disease()\n",
        "print(f\"Identified disease: {disease}\")\n"
      ],
      "metadata": {
        "colab": {
          "base_uri": "https://localhost:8080/"
        },
        "id": "7OOQoqEqpm3x",
        "outputId": "e99c22f9-b67c-4c44-c281-b1be0cd91cce"
      },
      "execution_count": 3,
      "outputs": [
        {
          "output_type": "stream",
          "name": "stdout",
          "text": [
            "Identify plant disease:\n",
            "Identified disease: Powdery Mildew\n"
          ]
        }
      ]
    },
    {
      "cell_type": "code",
      "source": [
        "def weather_forecast():\n",
        "    forecast = {\n",
        "        'today': 'Sunny',\n",
        "        'tomorrow': 'Partly cloudy',\n",
        "        'day_after': 'Rain expected',\n",
        "    }\n",
        "    return forecast\n",
        "\n",
        "forecast = weather_forecast()\n",
        "print(\"Weather Forecast:\")\n",
        "for day, condition in forecast.items():\n",
        "    print(f\"{day.capitalize()}: {condition}\")\n"
      ],
      "metadata": {
        "colab": {
          "base_uri": "https://localhost:8080/"
        },
        "id": "NXWU-Ls8pt2c",
        "outputId": "9225426b-f22d-4cd5-fc0a-978852342437"
      },
      "execution_count": 4,
      "outputs": [
        {
          "output_type": "stream",
          "name": "stdout",
          "text": [
            "Weather Forecast:\n",
            "Today: Sunny\n",
            "Tomorrow: Partly cloudy\n",
            "Day_after: Rain expected\n"
          ]
        }
      ]
    },
    {
      "cell_type": "code",
      "source": [
        "def recommend_crop_rotation(current_crop):\n",
        "    rotation_plan = {\n",
        "        'wheat': 'Legumes',\n",
        "        'rice': 'Vegetables',\n",
        "        'cotton': 'Pulses',\n",
        "    }\n",
        "    return rotation_plan.get(current_crop.lower(), \"No rotation recommendation available\")\n",
        "\n",
        "current_crop = input(\"Enter the current crop: \")\n",
        "rotation_crop = recommend_crop_rotation(current_crop)\n",
        "print(f\"Recommended rotation crop: {rotation_crop}\")\n"
      ],
      "metadata": {
        "colab": {
          "base_uri": "https://localhost:8080/"
        },
        "id": "gbKiDgpYpyi6",
        "outputId": "ac76b32b-78b0-4d84-a1f8-1eb961675cd8"
      },
      "execution_count": 5,
      "outputs": [
        {
          "output_type": "stream",
          "name": "stdout",
          "text": [
            "Enter the current crop: carrot\n",
            "Recommended rotation crop: No rotation recommendation available\n"
          ]
        }
      ]
    },
    {
      "cell_type": "code",
      "source": [
        "def main():\n",
        "    print(\"Agriculture Management System\")\n",
        "    print(\"1. Crop Recommendation\")\n",
        "    print(\"2. Soil Moisture Monitoring\")\n",
        "    print(\"3. Disease Identification\")\n",
        "    print(\"4. Weather Forecast\")\n",
        "    print(\"5. Sustainability Practices (Crop Rotation)\")\n",
        "\n",
        "    choice = int(input(\"Choose an option (1-5): \"))\n",
        "\n",
        "    if choice == 1:\n",
        "        soil_type = input(\"Enter your soil type (loamy, clayey, sandy): \")\n",
        "        recommended_crops = recommend_crop(soil_type)\n",
        "        print(f\"Recommended crops: {', '.join(recommended_crops)}\")\n",
        "\n",
        "    elif choice == 2:\n",
        "        moisture_level = int(input(\"Enter the current soil moisture level (%): \"))\n",
        "        irrigation_advice = recommend_irrigation(moisture_level)\n",
        "        print(f\"Irrigation advice: {irrigation_advice}\")\n",
        "\n",
        "    elif choice == 3:\n",
        "        disease = identify_disease()\n",
        "        print(f\"Identified disease: {disease}\")\n",
        "\n",
        "    elif choice == 4:\n",
        "        forecast = weather_forecast()\n",
        "        print(\"Weather Forecast:\")\n",
        "        for day, condition in forecast.items():\n",
        "            print(f\"{day.capitalize()}: {condition}\")\n",
        "\n",
        "    elif choice == 5:\n",
        "        current_crop = input(\"Enter the current crop: \")\n",
        "        rotation_crop = recommend_crop_rotation(current_crop)\n",
        "        print(f\"Recommended rotation crop: {rotation_crop}\")\n",
        "\n",
        "    else:\n",
        "        print(\"Invalid choice\")\n",
        "\n",
        "if __name__ == \"__main__\":\n",
        "    main()\n"
      ],
      "metadata": {
        "colab": {
          "base_uri": "https://localhost:8080/"
        },
        "id": "c8oNVuZSp6Uz",
        "outputId": "a77d693e-add7-4afe-f18b-00b188d050f6"
      },
      "execution_count": 6,
      "outputs": [
        {
          "output_type": "stream",
          "name": "stdout",
          "text": [
            "Agriculture Management System\n",
            "1. Crop Recommendation\n",
            "2. Soil Moisture Monitoring\n",
            "3. Disease Identification\n",
            "4. Weather Forecast\n",
            "5. Sustainability Practices (Crop Rotation)\n",
            "Choose an option (1-5): 4\n",
            "Weather Forecast:\n",
            "Today: Sunny\n",
            "Tomorrow: Partly cloudy\n",
            "Day_after: Rain expected\n"
          ]
        }
      ]
    }
  ]
}